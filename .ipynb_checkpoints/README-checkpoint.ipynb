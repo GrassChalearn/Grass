{
 "cells": [
  {
   "cell_type": "markdown",
   "metadata": {},
   "source": [
    "## Ecocity starting kit\n",
    "\n",
    "The challenge that is posed to you is to use weather data (temperature, humidity, cloud cover) to predict the number of bikes rented at given station for a given day. To make the challenge more interesting, predictions are asked either in the morning or in the afternoon."
   ]
  },
  {
   "cell_type": "markdown",
   "metadata": {},
   "source": [
    "## Fetch the data and load it"
   ]
  },
  {
   "cell_type": "code",
   "execution_count": 1,
   "metadata": {
    "collapsed": false,
    "scrolled": false
   },
   "outputs": [
    {
     "name": "stdout",
     "output_type": "stream",
     "text": [
      "public_data/bikes_feat.name   public_data/bikes_train.data\r\n",
      "public_data/bikes_label.name  public_data/bikes_train.solution\r\n",
      "public_data/bikes_test.data   public_data/bikes_valid.data\r\n"
     ]
    }
   ],
   "source": [
    "codedir = 'sample_code/'\n",
    "from sys import path; path.append(codedir)\n",
    "%matplotlib inline\n",
    "import seaborn as sns; sns.set()\n",
    "datadir = 'public_data/'                        # Change this to the directory where you put the input data\n",
    "dataname = 'bikes'\n",
    "basename = datadir  + dataname\n",
    "!ls $basename*"
   ]
  },
  {
   "cell_type": "code",
   "execution_count": 2,
   "metadata": {
    "collapsed": false
   },
   "outputs": [
    {
     "name": "stdout",
     "output_type": "stream",
     "text": [
      "Reading public_data/bikes_train from AutoML format\n",
      "Number of examples = 95236\n",
      "Number of features = 11\n"
     ]
    }
   ],
   "source": [
    "import data_io\n",
    "import eval\n",
    "reload(data_io)\n",
    "data = data_io.read_as_df(basename)                          # The data are loaded as a Pandas Data Frame\n",
    "#data.to_csv(basename + '_train.csv', index=False)           # This allows saving the data in csv format"
   ]
  },
  {
   "cell_type": "markdown",
   "metadata": {},
   "source": [
    "## Show the first five rows"
   ]
  },
  {
   "cell_type": "code",
   "execution_count": 3,
   "metadata": {
    "collapsed": false,
    "scrolled": false
   },
   "outputs": [
    {
     "data": {
      "text/html": [
       "<div>\n",
       "<table border=\"1\" class=\"dataframe\">\n",
       "  <thead>\n",
       "    <tr style=\"text-align: right;\">\n",
       "      <th></th>\n",
       "      <th>Moment_of_the_day</th>\n",
       "      <th>station_id</th>\n",
       "      <th>date_(m/d/y)</th>\n",
       "      <th>average_duration_(s)</th>\n",
       "      <th>season</th>\n",
       "      <th>temperature_(F)</th>\n",
       "      <th>humidity</th>\n",
       "      <th>visibility</th>\n",
       "      <th>wind</th>\n",
       "      <th>cloud cover</th>\n",
       "      <th>precipitation_(mm)</th>\n",
       "      <th>target</th>\n",
       "    </tr>\n",
       "  </thead>\n",
       "  <tbody>\n",
       "    <tr>\n",
       "      <th>0</th>\n",
       "      <td>2</td>\n",
       "      <td>32</td>\n",
       "      <td>792</td>\n",
       "      <td>314.333333</td>\n",
       "      <td>0</td>\n",
       "      <td>67.8</td>\n",
       "      <td>60.8</td>\n",
       "      <td>10.0</td>\n",
       "      <td>6.6</td>\n",
       "      <td>1.2</td>\n",
       "      <td>0.0</td>\n",
       "      <td>3</td>\n",
       "    </tr>\n",
       "    <tr>\n",
       "      <th>1</th>\n",
       "      <td>1</td>\n",
       "      <td>58</td>\n",
       "      <td>386</td>\n",
       "      <td>402.000000</td>\n",
       "      <td>0</td>\n",
       "      <td>53.8</td>\n",
       "      <td>57.0</td>\n",
       "      <td>10.0</td>\n",
       "      <td>3.0</td>\n",
       "      <td>0.2</td>\n",
       "      <td>0.0</td>\n",
       "      <td>1</td>\n",
       "    </tr>\n",
       "    <tr>\n",
       "      <th>2</th>\n",
       "      <td>0</td>\n",
       "      <td>69</td>\n",
       "      <td>743</td>\n",
       "      <td>452.000000</td>\n",
       "      <td>0</td>\n",
       "      <td>49.0</td>\n",
       "      <td>78.0</td>\n",
       "      <td>10.0</td>\n",
       "      <td>3.0</td>\n",
       "      <td>3.0</td>\n",
       "      <td>0.0</td>\n",
       "      <td>1</td>\n",
       "    </tr>\n",
       "    <tr>\n",
       "      <th>3</th>\n",
       "      <td>2</td>\n",
       "      <td>57</td>\n",
       "      <td>135</td>\n",
       "      <td>481.200000</td>\n",
       "      <td>2</td>\n",
       "      <td>57.6</td>\n",
       "      <td>65.8</td>\n",
       "      <td>10.0</td>\n",
       "      <td>9.6</td>\n",
       "      <td>5.6</td>\n",
       "      <td>0.0</td>\n",
       "      <td>10</td>\n",
       "    </tr>\n",
       "    <tr>\n",
       "      <th>4</th>\n",
       "      <td>3</td>\n",
       "      <td>76</td>\n",
       "      <td>137</td>\n",
       "      <td>568.750000</td>\n",
       "      <td>2</td>\n",
       "      <td>55.4</td>\n",
       "      <td>68.6</td>\n",
       "      <td>10.0</td>\n",
       "      <td>3.6</td>\n",
       "      <td>0.6</td>\n",
       "      <td>0.0</td>\n",
       "      <td>4</td>\n",
       "    </tr>\n",
       "  </tbody>\n",
       "</table>\n",
       "</div>"
      ],
      "text/plain": [
       "   Moment_of_the_day  station_id  date_(m/d/y)  average_duration_(s)  season  \\\n",
       "0                  2          32           792            314.333333       0   \n",
       "1                  1          58           386            402.000000       0   \n",
       "2                  0          69           743            452.000000       0   \n",
       "3                  2          57           135            481.200000       2   \n",
       "4                  3          76           137            568.750000       2   \n",
       "\n",
       "   temperature_(F)  humidity  visibility  wind  cloud cover  \\\n",
       "0             67.8      60.8        10.0   6.6          1.2   \n",
       "1             53.8      57.0        10.0   3.0          0.2   \n",
       "2             49.0      78.0        10.0   3.0          3.0   \n",
       "3             57.6      65.8        10.0   9.6          5.6   \n",
       "4             55.4      68.6        10.0   3.6          0.6   \n",
       "\n",
       "   precipitation_(mm)  target  \n",
       "0                 0.0       3  \n",
       "1                 0.0       1  \n",
       "2                 0.0       1  \n",
       "3                 0.0      10  \n",
       "4                 0.0       4  "
      ]
     },
     "execution_count": 3,
     "metadata": {},
     "output_type": "execute_result"
    }
   ],
   "source": [
    "data.head()"
   ]
  },
  {
   "cell_type": "markdown",
   "metadata": {},
   "source": [
    "## Show statistics for each column"
   ]
  },
  {
   "cell_type": "code",
   "execution_count": 4,
   "metadata": {
    "collapsed": false,
    "scrolled": true
   },
   "outputs": [
    {
     "data": {
      "text/html": [
       "<div>\n",
       "<table border=\"1\" class=\"dataframe\">\n",
       "  <thead>\n",
       "    <tr style=\"text-align: right;\">\n",
       "      <th></th>\n",
       "      <th>Moment_of_the_day</th>\n",
       "      <th>station_id</th>\n",
       "      <th>date_(m/d/y)</th>\n",
       "      <th>average_duration_(s)</th>\n",
       "      <th>season</th>\n",
       "      <th>temperature_(F)</th>\n",
       "      <th>humidity</th>\n",
       "      <th>visibility</th>\n",
       "      <th>wind</th>\n",
       "      <th>cloud cover</th>\n",
       "      <th>precipitation_(mm)</th>\n",
       "      <th>target</th>\n",
       "    </tr>\n",
       "  </thead>\n",
       "  <tbody>\n",
       "    <tr>\n",
       "      <th>count</th>\n",
       "      <td>95236.000000</td>\n",
       "      <td>95236.000000</td>\n",
       "      <td>95236.000000</td>\n",
       "      <td>9.523600e+04</td>\n",
       "      <td>95236.000000</td>\n",
       "      <td>95236.000000</td>\n",
       "      <td>95236.000000</td>\n",
       "      <td>95236.0</td>\n",
       "      <td>95236.000000</td>\n",
       "      <td>95236.000000</td>\n",
       "      <td>95236.000000</td>\n",
       "      <td>95236.000000</td>\n",
       "    </tr>\n",
       "    <tr>\n",
       "      <th>mean</th>\n",
       "      <td>1.658207</td>\n",
       "      <td>49.444968</td>\n",
       "      <td>458.388404</td>\n",
       "      <td>1.539710e+03</td>\n",
       "      <td>0.985531</td>\n",
       "      <td>60.566674</td>\n",
       "      <td>66.816689</td>\n",
       "      <td>10.0</td>\n",
       "      <td>5.939880</td>\n",
       "      <td>2.788011</td>\n",
       "      <td>0.020582</td>\n",
       "      <td>5.972815</td>\n",
       "    </tr>\n",
       "    <tr>\n",
       "      <th>std</th>\n",
       "      <td>0.951434</td>\n",
       "      <td>22.270579</td>\n",
       "      <td>209.390801</td>\n",
       "      <td>5.657068e+04</td>\n",
       "      <td>1.031860</td>\n",
       "      <td>6.689039</td>\n",
       "      <td>10.237596</td>\n",
       "      <td>0.0</td>\n",
       "      <td>2.810571</td>\n",
       "      <td>2.040308</td>\n",
       "      <td>0.113006</td>\n",
       "      <td>7.599249</td>\n",
       "    </tr>\n",
       "    <tr>\n",
       "      <th>min</th>\n",
       "      <td>0.000000</td>\n",
       "      <td>2.000000</td>\n",
       "      <td>96.000000</td>\n",
       "      <td>6.100000e+01</td>\n",
       "      <td>0.000000</td>\n",
       "      <td>20.000000</td>\n",
       "      <td>24.000000</td>\n",
       "      <td>10.0</td>\n",
       "      <td>0.000000</td>\n",
       "      <td>0.000000</td>\n",
       "      <td>0.000000</td>\n",
       "      <td>1.000000</td>\n",
       "    </tr>\n",
       "    <tr>\n",
       "      <th>25%</th>\n",
       "      <td>1.000000</td>\n",
       "      <td>35.000000</td>\n",
       "      <td>390.000000</td>\n",
       "      <td>3.983333e+02</td>\n",
       "      <td>0.000000</td>\n",
       "      <td>56.000000</td>\n",
       "      <td>62.000000</td>\n",
       "      <td>10.0</td>\n",
       "      <td>3.800000</td>\n",
       "      <td>1.000000</td>\n",
       "      <td>0.000000</td>\n",
       "      <td>1.000000</td>\n",
       "    </tr>\n",
       "    <tr>\n",
       "      <th>50%</th>\n",
       "      <td>2.000000</td>\n",
       "      <td>55.000000</td>\n",
       "      <td>450.000000</td>\n",
       "      <td>5.430000e+02</td>\n",
       "      <td>1.000000</td>\n",
       "      <td>60.200000</td>\n",
       "      <td>68.400000</td>\n",
       "      <td>10.0</td>\n",
       "      <td>6.000000</td>\n",
       "      <td>2.600000</td>\n",
       "      <td>0.000000</td>\n",
       "      <td>3.000000</td>\n",
       "    </tr>\n",
       "    <tr>\n",
       "      <th>75%</th>\n",
       "      <td>2.000000</td>\n",
       "      <td>67.000000</td>\n",
       "      <td>512.000000</td>\n",
       "      <td>7.787649e+02</td>\n",
       "      <td>2.000000</td>\n",
       "      <td>65.800000</td>\n",
       "      <td>73.000000</td>\n",
       "      <td>10.0</td>\n",
       "      <td>7.800000</td>\n",
       "      <td>4.200000</td>\n",
       "      <td>0.000000</td>\n",
       "      <td>8.000000</td>\n",
       "    </tr>\n",
       "    <tr>\n",
       "      <th>max</th>\n",
       "      <td>3.000000</td>\n",
       "      <td>84.000000</td>\n",
       "      <td>795.000000</td>\n",
       "      <td>1.727040e+07</td>\n",
       "      <td>3.000000</td>\n",
       "      <td>84.000000</td>\n",
       "      <td>96.000000</td>\n",
       "      <td>10.0</td>\n",
       "      <td>23.000000</td>\n",
       "      <td>8.000000</td>\n",
       "      <td>3.360000</td>\n",
       "      <td>99.000000</td>\n",
       "    </tr>\n",
       "  </tbody>\n",
       "</table>\n",
       "</div>"
      ],
      "text/plain": [
       "       Moment_of_the_day    station_id  date_(m/d/y)  average_duration_(s)  \\\n",
       "count       95236.000000  95236.000000  95236.000000          9.523600e+04   \n",
       "mean            1.658207     49.444968    458.388404          1.539710e+03   \n",
       "std             0.951434     22.270579    209.390801          5.657068e+04   \n",
       "min             0.000000      2.000000     96.000000          6.100000e+01   \n",
       "25%             1.000000     35.000000    390.000000          3.983333e+02   \n",
       "50%             2.000000     55.000000    450.000000          5.430000e+02   \n",
       "75%             2.000000     67.000000    512.000000          7.787649e+02   \n",
       "max             3.000000     84.000000    795.000000          1.727040e+07   \n",
       "\n",
       "             season  temperature_(F)      humidity  visibility          wind  \\\n",
       "count  95236.000000     95236.000000  95236.000000     95236.0  95236.000000   \n",
       "mean       0.985531        60.566674     66.816689        10.0      5.939880   \n",
       "std        1.031860         6.689039     10.237596         0.0      2.810571   \n",
       "min        0.000000        20.000000     24.000000        10.0      0.000000   \n",
       "25%        0.000000        56.000000     62.000000        10.0      3.800000   \n",
       "50%        1.000000        60.200000     68.400000        10.0      6.000000   \n",
       "75%        2.000000        65.800000     73.000000        10.0      7.800000   \n",
       "max        3.000000        84.000000     96.000000        10.0     23.000000   \n",
       "\n",
       "        cloud cover  precipitation_(mm)        target  \n",
       "count  95236.000000        95236.000000  95236.000000  \n",
       "mean       2.788011            0.020582      5.972815  \n",
       "std        2.040308            0.113006      7.599249  \n",
       "min        0.000000            0.000000      1.000000  \n",
       "25%        1.000000            0.000000      1.000000  \n",
       "50%        2.600000            0.000000      3.000000  \n",
       "75%        4.200000            0.000000      8.000000  \n",
       "max        8.000000            3.360000     99.000000  "
      ]
     },
     "execution_count": 4,
     "metadata": {},
     "output_type": "execute_result"
    }
   ],
   "source": [
    "data.describe()"
   ]
  },
  {
   "cell_type": "markdown",
   "metadata": {},
   "source": [
    "## Data visualization\n",
    "Import the Matplotlib and Seaborn libraries to plot distributions of rented bikes as functions of the temperature and of the mean temperature."
   ]
  },
  {
   "cell_type": "code",
   "execution_count": null,
   "metadata": {
    "collapsed": false
   },
   "outputs": [
    {
     "data": {
      "text/plain": [
       "<matplotlib.axes._subplots.AxesSubplot at 0xacaffb0c>"
      ]
     },
     "execution_count": 5,
     "metadata": {},
     "output_type": "execute_result"
    },
    {
     "data": {
      "image/png": "[encoded data removed]",
      "text/plain": [
       "<matplotlib.figure.Figure at 0xb46720cc>"
      ]
     },
     "metadata": {},
     "output_type": "display_data"
    }
   ],
   "source": [
    "import matplotlib.pyplot as plt\n",
    "\n",
    "\n",
    "sns.regplot(x = 'temperature_(F)', y = 'target', data = data, color = 'Orange')"
   ]
  },
  {
   "cell_type": "code",
   "execution_count": null,
   "metadata": {
    "collapsed": false
   },
   "outputs": [],
   "source": [
    "import numpy as np\n",
    "sns.factorplot('temperature_(F)', 'target', hue = 'temperature_(F)', estimator = np.mean, data = data, \n",
    "             size = 4.5, aspect = 1.4)"
   ]
  },
  {
   "cell_type": "markdown",
   "metadata": {},
   "source": [
    "## Building a predictive model\n",
    "Let's start by converting the training set from a Pandas DataFrame to a NumPy Array, loading the validation and test data (which we have to predict values for) and finally getting rid of the date column."
   ]
  },
  {
   "cell_type": "code",
   "execution_count": null,
   "metadata": {
    "collapsed": false
   },
   "outputs": [],
   "source": [
    "# Training data\n",
    "X_train = data.drop('target', axis=1)# This is the data matrix you already loaded (training data)\n",
    "X_train = X_train.drop('date_(m/d/y)', axis=1).values            \n",
    "# The target values encoded as categorical variables\n",
    "y_train = data['target'].values                         \n",
    "print 'Dimensions X_train=', X_train.shape, 'y_train=', y_train.shape\n",
    "X_valid = data_io.read_as_df(basename, 'valid')\n",
    "X_valid = X_valid.drop('date_(m/d/y)', axis=1).values            # Validation data\n",
    "X_test = data_io.read_as_df(basename, 'test')\n",
    "X_test = X_test.drop('date_(m/d/y)', axis=1).values            # This is the data matrix you already loaded (training data)"
   ]
  },
  {
   "cell_type": "markdown",
   "metadata": {},
   "source": [
    "Let's import the initial estimator of the starting kit (it is located in the `sample_code` directory)."
   ]
  },
  {
   "cell_type": "code",
   "execution_count": null,
   "metadata": {
    "collapsed": false
   },
   "outputs": [],
   "source": [
    "import regressor\n",
    "reload(regressor)                               # If you make changes to your code you have to reload it\n",
    "from regressor import Regressor\n",
    "Regressor??"
   ]
  },
  {
   "cell_type": "markdown",
   "metadata": {},
   "source": [
    "Train, run, and save your regressor and your predictions. If you saved a trained model and/or prediction results, the evaluation script will look for those and use those in priority \n",
    "* (1) use saved predictions\n",
    "* (2) if no predictions, use saved model, do not retrain, just test; \n",
    "* (3) if neither, train and test model from scratch. \n",
    "\n",
    "Compute the predictions with predict_proba, this is more versatile."
   ]
  },
  {
   "cell_type": "code",
   "execution_count": null,
   "metadata": {
    "collapsed": false
   },
   "outputs": [],
   "source": [
    "result_dir = 'res/'\n",
    "outname = result_dir + dataname\n",
    "clf = Regressor()\n",
    "clf.fit(X_train, y_train)\n",
    "Y_valid = clf.predict(X_valid) \n",
    "Y_test = clf.predict(X_test) \n",
    "clf.save(outname)\n",
    "#clf.load(outname) # Uncomment to check reloading works\n",
    "data_io.write(outname + '_valid.predict', Y_valid)\n",
    "data_io.write(outname + '_test.predict', Y_test)\n",
    "!ls $outname*"
   ]
  },
  {
   "cell_type": "markdown",
   "metadata": {},
   "source": [
    "## Training and cross-validating the model\n",
    "Train the `Regressor` object by calling it's `fit` function, then use the `predict` function to get the predicted values. Using these, compute the training accuracy on the **test set** for each of the 5 splits of the train data.\n",
    "\n",
    "**Nota Bene**: Scikit-learn does not have the `rmsle` metric, we have to call the function computing this score from the `eval.pyc` file."
   ]
  },
  {
   "cell_type": "code",
   "execution_count": null,
   "metadata": {
    "collapsed": false
   },
   "outputs": [],
   "source": [
    "from sklearn.cross_validation import KFold\n",
    "\n",
    "kf = KFold(X_train.shape[0], n_folds=5)\n",
    "\n",
    "for train_index, test_index in kf:\n",
    "    Xtrain, Xtest = X_train[train_index], X_train[test_index]\n",
    "    ytrain, ytest = y_train[train_index], y_train[test_index]\n",
    "    clf = Regressor()\n",
    "    clf.fit(Xtrain, ytrain)\n",
    "    Y_predict = clf.predict(Xtest)\n",
    "    print 'Fold', 'validation accuracy = ', eval.rmsle(Y_predict, ytest)"
   ]
  },
  {
   "cell_type": "markdown",
   "metadata": {},
   "source": [
    "## Unit testing"
   ]
  },
  {
   "cell_type": "markdown",
   "metadata": {},
   "source": [
    "It is <b><span style=\"color:red\">important that you test your submission files before submitting them</span></b>. All you have to do to make a submission is modify the file <code>classifier.py</code> in the <code>sample_code/</code> directory, then run this test to make sure everything works fine. This is the actual program that will be run on the server to test your submission.  The program looks for saved results and saved models in the subdirectory <code>res/</code>. If it finds them, it will use them: \n",
    "* (1) If results are found, then are copied to the output directory; \n",
    "* (2) If no results but a trained model is found, it is reloaded and no training occurs; \n",
    "* (3) If nothing is found a fresh model is trained and tested."
   ]
  },
  {
   "cell_type": "code",
   "execution_count": null,
   "metadata": {
    "collapsed": false,
    "scrolled": true
   },
   "outputs": [],
   "source": [
    "outdir = '../outputs'         # If you use result_dir as output directory, your submission will include your results"
   ]
  },
  {
   "cell_type": "code",
   "execution_count": null,
   "metadata": {
    "collapsed": false,
    "scrolled": true
   },
   "outputs": [],
   "source": [
    "!python run.py $datadir $outdir"
   ]
  },
  {
   "cell_type": "markdown",
   "metadata": {
    "collapsed": true
   },
   "source": [
    "## Making your submission\n",
    "\n",
    "The test program <code>run.py</code> prepares your <code>zip</code> file, ready to go. You find it in the directory above where you ran your program. For large datasets, we recommend that <b><span style=\"color:red\">you do NOT bundle the data with your submission</span></b>. The data directory is passed as an argument to run.py, and it is already there on the test server."
   ]
  },
  {
   "cell_type": "code",
   "execution_count": null,
   "metadata": {
    "collapsed": true
   },
   "outputs": [],
   "source": []
  }
 ],
 "metadata": {
  "anaconda-cloud": {},
  "kernelspec": {
   "display_name": "Python 2",
   "language": "python",
   "name": "python2"
  },
  "language_info": {
   "codemirror_mode": {
    "name": "ipython",
    "version": 2
   },
   "file_extension": ".py",
   "mimetype": "text/x-python",
   "name": "python",
   "nbconvert_exporter": "python",
   "pygments_lexer": "ipython2",
   "version": "2.7.11"
  }
 },
 "nbformat": 4,
 "nbformat_minor": 0
}
